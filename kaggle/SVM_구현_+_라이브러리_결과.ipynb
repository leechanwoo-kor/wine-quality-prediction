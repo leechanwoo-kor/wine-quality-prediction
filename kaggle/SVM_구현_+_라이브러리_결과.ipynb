{
  "nbformat": 4,
  "nbformat_minor": 0,
  "metadata": {
    "colab": {
      "name": "SVM 구현 + 라이브러리 결과",
      "provenance": [],
      "collapsed_sections": [],
      "include_colab_link": true
    },
    "kernelspec": {
      "name": "python3",
      "display_name": "Python 3"
    },
    "language_info": {
      "name": "python"
    }
  },
  "cells": [
    {
      "cell_type": "markdown",
      "metadata": {
        "id": "view-in-github",
        "colab_type": "text"
      },
      "source": [
        "<a href=\"https://colab.research.google.com/github/leechanwoo-kor/wine-quality-prediction/blob/main/kaggle/SVM_%E1%84%80%E1%85%AE%E1%84%92%E1%85%A7%E1%86%AB_%2B_%EB%9D%BC%EC%9D%B4%EB%B8%8C%EB%9F%AC%EB%A6%AC_%EA%B2%B0%EA%B3%BC.ipynb\" target=\"_parent\"><img src=\"https://colab.research.google.com/assets/colab-badge.svg\" alt=\"Open In Colab\"/></a>"
      ]
    },
    {
      "cell_type": "markdown",
      "source": [
        "# Import Library"
      ],
      "metadata": {
        "id": "Edc3o8cQcVpT"
      }
    },
    {
      "cell_type": "code",
      "execution_count": null,
      "metadata": {
        "id": "hPCAS7rrE5Hs"
      },
      "outputs": [],
      "source": [
        "import pandas as pd\n",
        "import numpy as np\n",
        "import matplotlib.pyplot as plt\n",
        "import seaborn as sns\n",
        "%matplotlib inline\n",
        "\n",
        "sns.set_style('whitegrid')  # 그래프 테두리 모두 제거\n",
        " \n",
        "from itertools import combinations\n",
        "from collections import Counter\n",
        "from cvxopt import matrix as cvxopt_matrix\n",
        "from cvxopt import solvers as cvxopt_solvers"
      ]
    },
    {
      "cell_type": "markdown",
      "source": [
        "# Data"
      ],
      "metadata": {
        "id": "J-UbT5fncY6S"
      }
    },
    {
      "cell_type": "code",
      "source": [
        "# 데이터 불러오기\n",
        "url = 'https://raw.githubusercontent.com/leechanwoo-kor/wine-quality-prediction/main/kaggle/WineQT.csv'\n",
        "df = pd.read_csv(url)\n",
        "del df['Id']\n",
        "df"
      ],
      "metadata": {
        "colab": {
          "base_uri": "https://localhost:8080/",
          "height": 424
        },
        "id": "EuiXNN5PE9-t",
        "outputId": "bb3bc75c-bf83-43ee-f32c-92f0d159bb94"
      },
      "execution_count": null,
      "outputs": [
        {
          "output_type": "execute_result",
          "data": {
            "text/plain": [
              "      fixed acidity  volatile acidity  citric acid  residual sugar  chlorides  \\\n",
              "0               7.4             0.700         0.00             1.9      0.076   \n",
              "1               7.8             0.880         0.00             2.6      0.098   \n",
              "2               7.8             0.760         0.04             2.3      0.092   \n",
              "3              11.2             0.280         0.56             1.9      0.075   \n",
              "4               7.4             0.700         0.00             1.9      0.076   \n",
              "...             ...               ...          ...             ...        ...   \n",
              "1138            6.3             0.510         0.13             2.3      0.076   \n",
              "1139            6.8             0.620         0.08             1.9      0.068   \n",
              "1140            6.2             0.600         0.08             2.0      0.090   \n",
              "1141            5.9             0.550         0.10             2.2      0.062   \n",
              "1142            5.9             0.645         0.12             2.0      0.075   \n",
              "\n",
              "      free sulfur dioxide  total sulfur dioxide  density    pH  sulphates  \\\n",
              "0                    11.0                  34.0  0.99780  3.51       0.56   \n",
              "1                    25.0                  67.0  0.99680  3.20       0.68   \n",
              "2                    15.0                  54.0  0.99700  3.26       0.65   \n",
              "3                    17.0                  60.0  0.99800  3.16       0.58   \n",
              "4                    11.0                  34.0  0.99780  3.51       0.56   \n",
              "...                   ...                   ...      ...   ...        ...   \n",
              "1138                 29.0                  40.0  0.99574  3.42       0.75   \n",
              "1139                 28.0                  38.0  0.99651  3.42       0.82   \n",
              "1140                 32.0                  44.0  0.99490  3.45       0.58   \n",
              "1141                 39.0                  51.0  0.99512  3.52       0.76   \n",
              "1142                 32.0                  44.0  0.99547  3.57       0.71   \n",
              "\n",
              "      alcohol  quality  \n",
              "0         9.4        5  \n",
              "1         9.8        5  \n",
              "2         9.8        5  \n",
              "3         9.8        6  \n",
              "4         9.4        5  \n",
              "...       ...      ...  \n",
              "1138     11.0        6  \n",
              "1139      9.5        6  \n",
              "1140     10.5        5  \n",
              "1141     11.2        6  \n",
              "1142     10.2        5  \n",
              "\n",
              "[1143 rows x 12 columns]"
            ],
            "text/html": [
              "\n",
              "  <div id=\"df-99c47ca4-930b-48a2-82fc-527c2eb6cc06\">\n",
              "    <div class=\"colab-df-container\">\n",
              "      <div>\n",
              "<style scoped>\n",
              "    .dataframe tbody tr th:only-of-type {\n",
              "        vertical-align: middle;\n",
              "    }\n",
              "\n",
              "    .dataframe tbody tr th {\n",
              "        vertical-align: top;\n",
              "    }\n",
              "\n",
              "    .dataframe thead th {\n",
              "        text-align: right;\n",
              "    }\n",
              "</style>\n",
              "<table border=\"1\" class=\"dataframe\">\n",
              "  <thead>\n",
              "    <tr style=\"text-align: right;\">\n",
              "      <th></th>\n",
              "      <th>fixed acidity</th>\n",
              "      <th>volatile acidity</th>\n",
              "      <th>citric acid</th>\n",
              "      <th>residual sugar</th>\n",
              "      <th>chlorides</th>\n",
              "      <th>free sulfur dioxide</th>\n",
              "      <th>total sulfur dioxide</th>\n",
              "      <th>density</th>\n",
              "      <th>pH</th>\n",
              "      <th>sulphates</th>\n",
              "      <th>alcohol</th>\n",
              "      <th>quality</th>\n",
              "    </tr>\n",
              "  </thead>\n",
              "  <tbody>\n",
              "    <tr>\n",
              "      <th>0</th>\n",
              "      <td>7.4</td>\n",
              "      <td>0.700</td>\n",
              "      <td>0.00</td>\n",
              "      <td>1.9</td>\n",
              "      <td>0.076</td>\n",
              "      <td>11.0</td>\n",
              "      <td>34.0</td>\n",
              "      <td>0.99780</td>\n",
              "      <td>3.51</td>\n",
              "      <td>0.56</td>\n",
              "      <td>9.4</td>\n",
              "      <td>5</td>\n",
              "    </tr>\n",
              "    <tr>\n",
              "      <th>1</th>\n",
              "      <td>7.8</td>\n",
              "      <td>0.880</td>\n",
              "      <td>0.00</td>\n",
              "      <td>2.6</td>\n",
              "      <td>0.098</td>\n",
              "      <td>25.0</td>\n",
              "      <td>67.0</td>\n",
              "      <td>0.99680</td>\n",
              "      <td>3.20</td>\n",
              "      <td>0.68</td>\n",
              "      <td>9.8</td>\n",
              "      <td>5</td>\n",
              "    </tr>\n",
              "    <tr>\n",
              "      <th>2</th>\n",
              "      <td>7.8</td>\n",
              "      <td>0.760</td>\n",
              "      <td>0.04</td>\n",
              "      <td>2.3</td>\n",
              "      <td>0.092</td>\n",
              "      <td>15.0</td>\n",
              "      <td>54.0</td>\n",
              "      <td>0.99700</td>\n",
              "      <td>3.26</td>\n",
              "      <td>0.65</td>\n",
              "      <td>9.8</td>\n",
              "      <td>5</td>\n",
              "    </tr>\n",
              "    <tr>\n",
              "      <th>3</th>\n",
              "      <td>11.2</td>\n",
              "      <td>0.280</td>\n",
              "      <td>0.56</td>\n",
              "      <td>1.9</td>\n",
              "      <td>0.075</td>\n",
              "      <td>17.0</td>\n",
              "      <td>60.0</td>\n",
              "      <td>0.99800</td>\n",
              "      <td>3.16</td>\n",
              "      <td>0.58</td>\n",
              "      <td>9.8</td>\n",
              "      <td>6</td>\n",
              "    </tr>\n",
              "    <tr>\n",
              "      <th>4</th>\n",
              "      <td>7.4</td>\n",
              "      <td>0.700</td>\n",
              "      <td>0.00</td>\n",
              "      <td>1.9</td>\n",
              "      <td>0.076</td>\n",
              "      <td>11.0</td>\n",
              "      <td>34.0</td>\n",
              "      <td>0.99780</td>\n",
              "      <td>3.51</td>\n",
              "      <td>0.56</td>\n",
              "      <td>9.4</td>\n",
              "      <td>5</td>\n",
              "    </tr>\n",
              "    <tr>\n",
              "      <th>...</th>\n",
              "      <td>...</td>\n",
              "      <td>...</td>\n",
              "      <td>...</td>\n",
              "      <td>...</td>\n",
              "      <td>...</td>\n",
              "      <td>...</td>\n",
              "      <td>...</td>\n",
              "      <td>...</td>\n",
              "      <td>...</td>\n",
              "      <td>...</td>\n",
              "      <td>...</td>\n",
              "      <td>...</td>\n",
              "    </tr>\n",
              "    <tr>\n",
              "      <th>1138</th>\n",
              "      <td>6.3</td>\n",
              "      <td>0.510</td>\n",
              "      <td>0.13</td>\n",
              "      <td>2.3</td>\n",
              "      <td>0.076</td>\n",
              "      <td>29.0</td>\n",
              "      <td>40.0</td>\n",
              "      <td>0.99574</td>\n",
              "      <td>3.42</td>\n",
              "      <td>0.75</td>\n",
              "      <td>11.0</td>\n",
              "      <td>6</td>\n",
              "    </tr>\n",
              "    <tr>\n",
              "      <th>1139</th>\n",
              "      <td>6.8</td>\n",
              "      <td>0.620</td>\n",
              "      <td>0.08</td>\n",
              "      <td>1.9</td>\n",
              "      <td>0.068</td>\n",
              "      <td>28.0</td>\n",
              "      <td>38.0</td>\n",
              "      <td>0.99651</td>\n",
              "      <td>3.42</td>\n",
              "      <td>0.82</td>\n",
              "      <td>9.5</td>\n",
              "      <td>6</td>\n",
              "    </tr>\n",
              "    <tr>\n",
              "      <th>1140</th>\n",
              "      <td>6.2</td>\n",
              "      <td>0.600</td>\n",
              "      <td>0.08</td>\n",
              "      <td>2.0</td>\n",
              "      <td>0.090</td>\n",
              "      <td>32.0</td>\n",
              "      <td>44.0</td>\n",
              "      <td>0.99490</td>\n",
              "      <td>3.45</td>\n",
              "      <td>0.58</td>\n",
              "      <td>10.5</td>\n",
              "      <td>5</td>\n",
              "    </tr>\n",
              "    <tr>\n",
              "      <th>1141</th>\n",
              "      <td>5.9</td>\n",
              "      <td>0.550</td>\n",
              "      <td>0.10</td>\n",
              "      <td>2.2</td>\n",
              "      <td>0.062</td>\n",
              "      <td>39.0</td>\n",
              "      <td>51.0</td>\n",
              "      <td>0.99512</td>\n",
              "      <td>3.52</td>\n",
              "      <td>0.76</td>\n",
              "      <td>11.2</td>\n",
              "      <td>6</td>\n",
              "    </tr>\n",
              "    <tr>\n",
              "      <th>1142</th>\n",
              "      <td>5.9</td>\n",
              "      <td>0.645</td>\n",
              "      <td>0.12</td>\n",
              "      <td>2.0</td>\n",
              "      <td>0.075</td>\n",
              "      <td>32.0</td>\n",
              "      <td>44.0</td>\n",
              "      <td>0.99547</td>\n",
              "      <td>3.57</td>\n",
              "      <td>0.71</td>\n",
              "      <td>10.2</td>\n",
              "      <td>5</td>\n",
              "    </tr>\n",
              "  </tbody>\n",
              "</table>\n",
              "<p>1143 rows × 12 columns</p>\n",
              "</div>\n",
              "      <button class=\"colab-df-convert\" onclick=\"convertToInteractive('df-99c47ca4-930b-48a2-82fc-527c2eb6cc06')\"\n",
              "              title=\"Convert this dataframe to an interactive table.\"\n",
              "              style=\"display:none;\">\n",
              "        \n",
              "  <svg xmlns=\"http://www.w3.org/2000/svg\" height=\"24px\"viewBox=\"0 0 24 24\"\n",
              "       width=\"24px\">\n",
              "    <path d=\"M0 0h24v24H0V0z\" fill=\"none\"/>\n",
              "    <path d=\"M18.56 5.44l.94 2.06.94-2.06 2.06-.94-2.06-.94-.94-2.06-.94 2.06-2.06.94zm-11 1L8.5 8.5l.94-2.06 2.06-.94-2.06-.94L8.5 2.5l-.94 2.06-2.06.94zm10 10l.94 2.06.94-2.06 2.06-.94-2.06-.94-.94-2.06-.94 2.06-2.06.94z\"/><path d=\"M17.41 7.96l-1.37-1.37c-.4-.4-.92-.59-1.43-.59-.52 0-1.04.2-1.43.59L10.3 9.45l-7.72 7.72c-.78.78-.78 2.05 0 2.83L4 21.41c.39.39.9.59 1.41.59.51 0 1.02-.2 1.41-.59l7.78-7.78 2.81-2.81c.8-.78.8-2.07 0-2.86zM5.41 20L4 18.59l7.72-7.72 1.47 1.35L5.41 20z\"/>\n",
              "  </svg>\n",
              "      </button>\n",
              "      \n",
              "  <style>\n",
              "    .colab-df-container {\n",
              "      display:flex;\n",
              "      flex-wrap:wrap;\n",
              "      gap: 12px;\n",
              "    }\n",
              "\n",
              "    .colab-df-convert {\n",
              "      background-color: #E8F0FE;\n",
              "      border: none;\n",
              "      border-radius: 50%;\n",
              "      cursor: pointer;\n",
              "      display: none;\n",
              "      fill: #1967D2;\n",
              "      height: 32px;\n",
              "      padding: 0 0 0 0;\n",
              "      width: 32px;\n",
              "    }\n",
              "\n",
              "    .colab-df-convert:hover {\n",
              "      background-color: #E2EBFA;\n",
              "      box-shadow: 0px 1px 2px rgba(60, 64, 67, 0.3), 0px 1px 3px 1px rgba(60, 64, 67, 0.15);\n",
              "      fill: #174EA6;\n",
              "    }\n",
              "\n",
              "    [theme=dark] .colab-df-convert {\n",
              "      background-color: #3B4455;\n",
              "      fill: #D2E3FC;\n",
              "    }\n",
              "\n",
              "    [theme=dark] .colab-df-convert:hover {\n",
              "      background-color: #434B5C;\n",
              "      box-shadow: 0px 1px 3px 1px rgba(0, 0, 0, 0.15);\n",
              "      filter: drop-shadow(0px 1px 2px rgba(0, 0, 0, 0.3));\n",
              "      fill: #FFFFFF;\n",
              "    }\n",
              "  </style>\n",
              "\n",
              "      <script>\n",
              "        const buttonEl =\n",
              "          document.querySelector('#df-99c47ca4-930b-48a2-82fc-527c2eb6cc06 button.colab-df-convert');\n",
              "        buttonEl.style.display =\n",
              "          google.colab.kernel.accessAllowed ? 'block' : 'none';\n",
              "\n",
              "        async function convertToInteractive(key) {\n",
              "          const element = document.querySelector('#df-99c47ca4-930b-48a2-82fc-527c2eb6cc06');\n",
              "          const dataTable =\n",
              "            await google.colab.kernel.invokeFunction('convertToInteractive',\n",
              "                                                     [key], {});\n",
              "          if (!dataTable) return;\n",
              "\n",
              "          const docLinkHtml = 'Like what you see? Visit the ' +\n",
              "            '<a target=\"_blank\" href=https://colab.research.google.com/notebooks/data_table.ipynb>data table notebook</a>'\n",
              "            + ' to learn more about interactive tables.';\n",
              "          element.innerHTML = '';\n",
              "          dataTable['output_type'] = 'display_data';\n",
              "          await google.colab.output.renderOutput(dataTable, element);\n",
              "          const docLink = document.createElement('div');\n",
              "          docLink.innerHTML = docLinkHtml;\n",
              "          element.appendChild(docLink);\n",
              "        }\n",
              "      </script>\n",
              "    </div>\n",
              "  </div>\n",
              "  "
            ]
          },
          "metadata": {},
          "execution_count": 2
        }
      ]
    },
    {
      "cell_type": "code",
      "source": [
        "#categorize wine quality\n",
        "bins = (2,6.5,8)\n",
        "group_names = ['bad','good']\n",
        "categories = pd.cut(df['quality'], bins, labels = group_names)\n",
        "df['quality'] = categories"
      ],
      "metadata": {
        "id": "yiekhuRdE-GZ"
      },
      "execution_count": null,
      "outputs": []
    },
    {
      "cell_type": "code",
      "source": [
        "# 데이터 나누기\n",
        "X = df.drop('quality', axis=1)\n",
        "y = df.quality"
      ],
      "metadata": {
        "id": "xGJHTDo0Fgwv"
      },
      "execution_count": null,
      "outputs": []
    },
    {
      "cell_type": "code",
      "source": [
        "# Encoding our dependent variable:Quality column\n",
        "from sklearn.preprocessing import LabelEncoder\n",
        "labelencoder_y = LabelEncoder()\n",
        "y = labelencoder_y.fit_transform(y)\n",
        "y"
      ],
      "metadata": {
        "id": "Xv2qq_8luxkf",
        "outputId": "9d315b86-3ee7-4db7-d058-8cae27cecc2a",
        "colab": {
          "base_uri": "https://localhost:8080/"
        }
      },
      "execution_count": null,
      "outputs": [
        {
          "output_type": "execute_result",
          "data": {
            "text/plain": [
              "array([0, 0, 0, ..., 0, 0, 0])"
            ]
          },
          "metadata": {},
          "execution_count": 5
        }
      ]
    },
    {
      "cell_type": "code",
      "source": [
        "from sklearn.model_selection import train_test_split # Split test/train data\n",
        "X_train, X_test, y_train, y_test = train_test_split(X, y, test_size=0.3, random_state=48)"
      ],
      "metadata": {
        "id": "cPgIlFtFFCmc"
      },
      "execution_count": null,
      "outputs": []
    },
    {
      "cell_type": "code",
      "source": [
        "from sklearn.pipeline import Pipeline\n",
        "from sklearn.preprocessing import StandardScaler, MinMaxScaler\n",
        "\n",
        "pipeline = Pipeline([\n",
        "    ('min_max_scaler',MinMaxScaler()),\n",
        "    ('std_scaler', StandardScaler())\n",
        "])\n",
        "\n",
        "X_train = pipeline.fit_transform(X_train)\n",
        "X_test = pipeline.transform(X_test)"
      ],
      "metadata": {
        "id": "Y3SVkMPRFY9L"
      },
      "execution_count": null,
      "outputs": []
    },
    {
      "cell_type": "markdown",
      "source": [
        "# Model"
      ],
      "metadata": {
        "id": "tiXO6S_1cbXZ"
      }
    },
    {
      "cell_type": "code",
      "source": [
        "class BinarySVC():\n",
        "    def __init__(self, kernel=None, coef0=0):\n",
        "        self.labels_map = None\n",
        "        self.kernel = kernel\n",
        "        self.X = None\n",
        "        self.y = None\n",
        "        self.alphas = None\n",
        "        self.w = None\n",
        "        self.b = None\n",
        "        self.coef0 = coef0\n",
        "        if kernel is not None:\n",
        "            assert kernel in ['poly', 'rbf', 'sigmoid']\n",
        "    \n",
        "    def make_label_map(self, uniq_labels):\n",
        "        labels_map = list(zip([-1, 1], uniq_labels))\n",
        "        self.labels_map = labels_map\n",
        "        return\n",
        "    \n",
        "    def transform_label(self, label, labels_map):\n",
        "        res = [l[0] for l in labels_map if l[1] == label][0]\n",
        "        return res\n",
        " \n",
        "    def inverse_label(self, svm_label, labels_map):\n",
        "        try:\n",
        "            res = [l[1] for l in labels_map if l[0] == svm_label][0]\n",
        "        except:\n",
        "            print(svm_label)\n",
        "            print(labels_map)\n",
        "            raise\n",
        "        return res\n",
        "    \n",
        "    def get_kernel_val(self, x, y):\n",
        "        X = self.X\n",
        "        coef0 = self.coef0\n",
        "        gamma = 1/(X.shape[1]*X.var())\n",
        "        if self.kernel == 'poly':\n",
        "            return (gamma*np.dot(x,y)+coef0)**2\n",
        "        elif self.kernel == 'rbf':\n",
        "            return np.exp(-gamma*np.square(np.linalg.norm(x-y)))\n",
        "        else:\n",
        "            return np.tanh(gamma*np.dot(x,y)+coef0)\n",
        "\n",
        "    def fit(self, X, y, C):\n",
        "        assert C >= 0, 'constant C must be non-negative'\n",
        "        uniq_labels = np.unique(y)\n",
        "        assert len(uniq_labels) == 2, 'the number of labels is 2'\n",
        "        self.make_label_map(uniq_labels)\n",
        "        self.X = X\n",
        "        y = [self.transform_label(label, self.labels_map) for label in y] ## 1, -1로 변환\n",
        "        y = np.array(y)\n",
        "        ## formulating standard form\n",
        "        m, n = X.shape\n",
        "        y = y.reshape(-1,1)*1.\n",
        "        self.y = y\n",
        "        if self.kernel is not None:\n",
        "            Q = np.zeros((m,m))\n",
        "            for i in range(m):\n",
        "                for j in range(m):\n",
        "                    Q[i][j] = y[i]*y[j]*self.get_kernel_val(X[i], X[j])                       \n",
        "        else:\n",
        "            yX = y*X\n",
        "            Q = np.dot(yX,yX.T)\n",
        "        P = cvxopt_matrix(Q)\n",
        "        q = cvxopt_matrix(-np.ones((m, 1)))\n",
        "        G = cvxopt_matrix(np.vstack((np.eye(m)*-1,np.eye(m))))\n",
        "        h = cvxopt_matrix(np.hstack((np.zeros(m), np.ones(m) * C)))\n",
        "        A = cvxopt_matrix(y.reshape(1, -1))\n",
        "        b = cvxopt_matrix(np.zeros(1))\n",
        "        ## cvxopt configuration\n",
        "        cvxopt_solvers.options['show_progress'] = False ## 결과 출력 표시 X\n",
        "        sol = cvxopt_solvers.qp(P, q, G, h, A, b)\n",
        "        alphas = np.array(sol['x'])\n",
        "        S = (alphas>1e-4).flatten()\n",
        "        if self.kernel is not None:\n",
        "            sum_val = 0\n",
        "            S_index = np.where(S==True)[0]\n",
        "            for s in S_index:\n",
        "                temp_vec = np.array([self.get_kernel_val(z, X[s]) for z in X])\n",
        "                temp_vec = np.expand_dims(temp_vec, axis=1)\n",
        "                sum_val += np.sum(y[s] - np.sum(y*alphas*temp_vec))\n",
        "            b = sum_val/len(S)\n",
        "            self.b = b\n",
        "        else:\n",
        "            w = ((y*alphas).T@X).reshape(-1,1)\n",
        "            b = np.mean(y[S] - np.dot(X[S],w))\n",
        "            self.w = w\n",
        "            self.b = b\n",
        "        self.alphas = alphas\n",
        "        return\n",
        "\n",
        "    def predict(self, X):\n",
        "        predictions = [self._predict(x) for x in X]\n",
        "        return predictions\n",
        "    \n",
        "    def _predict(self, x):\n",
        "        if self.kernel:\n",
        "            temp_vec = np.array([self.get_kernel_val(x, y) for y in self.X])\n",
        "            temp_vec = np.expand_dims(temp_vec, axis=1)\n",
        "            S = (self.alphas>1e-4).flatten()\n",
        "            res = np.sign(np.sum(self.y[S]*self.alphas[S]*temp_vec[S])+self.b)\n",
        "        else:\n",
        "            res = np.sign(self.w.T.dot(x)+self.b)\n",
        "        res = self.inverse_label(res, self.labels_map)\n",
        "        return res"
      ],
      "metadata": {
        "id": "Zi4hqyYvXgoz"
      },
      "execution_count": null,
      "outputs": []
    },
    {
      "cell_type": "code",
      "source": [
        ""
      ],
      "metadata": {
        "id": "BHBrpz-XgNwX"
      },
      "execution_count": null,
      "outputs": []
    },
    {
      "cell_type": "code",
      "source": [
        "class mySVM():\n",
        "    def __init__(self, svm_type='classification', kernel=None, coef0=0):\n",
        "        assert svm_type in ['classification', 'regression']\n",
        "        self.svm_type = svm_type\n",
        "        self.kernel=kernel\n",
        "        self.X = None\n",
        "        self.y = None\n",
        "        self.coef0 = coef0\n",
        "        self.model_list = None\n",
        "        if kernel is not None:\n",
        "            assert kernel in ['poly', 'rbf', 'sigmoid']\n",
        "\n",
        "    def get_kernel_val(self, x, y):\n",
        "        X = self.X\n",
        "        coef0 = self.coef0\n",
        "        gamma = 1/(X.shape[1]*X.var())\n",
        "        if self.kernel == 'poly':\n",
        "            return (gamma*np.dot(x,y)+coef0)**2\n",
        "        elif self.kernel == 'rbf':\n",
        "            return np.exp(-gamma*np.square(np.linalg.norm(x-y)))\n",
        "        else:\n",
        "            return np.tanh(gamma*np.dot(x,y)+coef0)\n",
        "\n",
        "    def fit(self, X, y, C, epsilon=0.1):\n",
        "        if self.svm_type == 'classification':\n",
        "            self._fit_svc(X, y, C)\n",
        "        else:\n",
        "            self._fit_svr(X, y, C, epsilon)\n",
        "    \n",
        "    def _fit_svc(self, X, y, C):\n",
        "        uniq_labels = np.unique(y)\n",
        "        label_combinations = list(combinations(uniq_labels, 2))\n",
        "        model_list = []\n",
        "        for lc in label_combinations:\n",
        "            target_idx = np.array([x in lc for x in y])\n",
        "            y_restricted = y[target_idx]\n",
        "            X_restricted = X[target_idx]\n",
        "            clf = BinarySVC(kernel=self.kernel, coef0=self.coef0)\n",
        "            clf.fit(X_restricted, y_restricted, C)\n",
        "            model_list.append(clf)\n",
        "        self.model_list = model_list\n",
        "        return\n",
        "\n",
        "    def predict(self, X):\n",
        "        if self.svm_type =='classification':\n",
        "            model_list = self.model_list\n",
        "            prediction = [model.predict(X) for model in model_list]\n",
        "            prediction = [Counter(pred).most_common(1)[0][0] for pred in list(zip(*prediction))]\n",
        "        else:\n",
        "            prediction = [self._predict_reg(x) for x in X]\n",
        "        return prediction\n",
        "    \n",
        "    def _predict_reg(self, x):\n",
        "        if self.kernel is not None:\n",
        "            m, _ = self.X.shape\n",
        "            sol_root = self.alphas\n",
        "            alphas = sol_root[:m]\n",
        "            alphas_star = sol_root[m:]\n",
        "            \n",
        "            temp_vec = np.array([self.get_kernel_val(z, x) for z in X])\n",
        "            temp_vec = np.expand_dims(temp_vec, axis=1)\n",
        "            pred = np.sum((alphas-alphas_star)*temp_vec)+self.b\n",
        "        else:\n",
        "            w = self.w\n",
        "            b = self.b\n",
        "            pred = w.dot(x)+b\n",
        "            pred = pred[0]\n",
        "        return pred"
      ],
      "metadata": {
        "id": "5QSV2p8tXiNw"
      },
      "execution_count": null,
      "outputs": []
    },
    {
      "cell_type": "markdown",
      "source": [
        "# Train/Test"
      ],
      "metadata": {
        "id": "_dvi6Z1ycd1l"
      }
    },
    {
      "cell_type": "code",
      "source": [
        "clf = mySVM(svm_type='classification')\n",
        "clf.fit(X_train, y_train, C=10)"
      ],
      "metadata": {
        "id": "k81MH-lIYK7y"
      },
      "execution_count": null,
      "outputs": []
    },
    {
      "cell_type": "code",
      "source": [
        "pred = clf.predict(X_test)\n",
        "np.mean(y_test == pred)"
      ],
      "metadata": {
        "colab": {
          "base_uri": "https://localhost:8080/"
        },
        "id": "jLmc7zWBYQ1H",
        "outputId": "74c66489-5869-43fb-b295-1ea72770e93e"
      },
      "execution_count": null,
      "outputs": [
        {
          "output_type": "execute_result",
          "data": {
            "text/plain": [
              "0.8454810495626822"
            ]
          },
          "metadata": {},
          "execution_count": 11
        }
      ]
    },
    {
      "cell_type": "code",
      "source": [
        "clf = mySVM(svm_type='classification', kernel='rbf')\n",
        "clf.fit(X_train, y_train, C=10)"
      ],
      "metadata": {
        "id": "Y8wGsi6IbHe4"
      },
      "execution_count": null,
      "outputs": []
    },
    {
      "cell_type": "code",
      "source": [
        "pred = clf.predict(X_test)\n",
        "np.mean(y_test == pred)"
      ],
      "metadata": {
        "colab": {
          "base_uri": "https://localhost:8080/"
        },
        "id": "i7EMTMDgbn96",
        "outputId": "f870b783-139d-4e07-cb0c-01bd3c7c510b"
      },
      "execution_count": null,
      "outputs": [
        {
          "output_type": "execute_result",
          "data": {
            "text/plain": [
              "0.8688046647230321"
            ]
          },
          "metadata": {},
          "execution_count": 13
        }
      ]
    },
    {
      "cell_type": "code",
      "source": [
        "from sklearn.metrics import confusion_matrix, accuracy_score\n",
        "cm = confusion_matrix(y_test, pred)\n",
        "sns.heatmap(cm,annot=True,fmt='2.0f')\n",
        "print(accuracy_score(y_test, pred))"
      ],
      "metadata": {
        "colab": {
          "base_uri": "https://localhost:8080/"
        },
        "id": "iqHr_zCYYkdb",
        "outputId": "2e4c6b20-34e6-42eb-9512-6f3faa82abab"
      },
      "execution_count": null,
      "outputs": [
        {
          "output_type": "stream",
          "name": "stdout",
          "text": [
            "0.8688046647230321\n"
          ]
        },
        {
          "output_type": "display_data",
          "data": {
            "text/plain": [
              "<Figure size 432x288 with 2 Axes>"
            ],
            "image/png": "[encoded data removed]"
          },
          "metadata": {
            "needs_background": "light"
          }
        }
      ]
    },
    {
      "cell_type": "markdown",
      "source": [
        "### 라이브러리 결과"
      ],
      "metadata": {
        "id": "NsOfAG4e7d7-"
      }
    },
    {
      "cell_type": "code",
      "source": [
        "from sklearn.svm import SVC\n",
        "svm_clf = SVC(C=10,kernel='rbf')\n",
        "svm_clf.fit(X_train,y_train)"
      ],
      "metadata": {
        "colab": {
          "base_uri": "https://localhost:8080/"
        },
        "id": "JXYgAHMO7lGN",
        "outputId": "2cfbb34d-36b0-4c5e-ef5e-2b1770318746"
      },
      "execution_count": null,
      "outputs": [
        {
          "output_type": "execute_result",
          "data": {
            "text/plain": [
              "SVC(C=10)"
            ]
          },
          "metadata": {},
          "execution_count": 15
        }
      ]
    },
    {
      "cell_type": "code",
      "source": [
        "y_pred = svm_clf.predict(X_test)\n",
        "cm = confusion_matrix(y_test, y_pred)\n",
        "sns.heatmap(cm,annot=True,fmt='2.0f')\n",
        "print(accuracy_score(y_pred,y_test))"
      ],
      "metadata": {
        "colab": {
          "base_uri": "https://localhost:8080/",
          "height": 283
        },
        "id": "VpugwJOL7t5S",
        "outputId": "b6e9ba89-9bd8-4143-ea31-1d0513272323"
      },
      "execution_count": null,
      "outputs": [
        {
          "output_type": "stream",
          "name": "stdout",
          "text": [
            "0.8717201166180758\n"
          ]
        },
        {
          "output_type": "display_data",
          "data": {
            "text/plain": [
              "<Figure size 432x288 with 2 Axes>"
            ],
            "image/png": "[encoded data removed]"
          },
          "metadata": {
            "needs_background": "light"
          }
        }
      ]
    },
    {
      "cell_type": "markdown",
      "source": [
        "## Model Comparison"
      ],
      "metadata": {
        "id": "hRVCOirs7uL4"
      }
    },
    {
      "cell_type": "code",
      "source": [
        "# For ML models\n",
        "from sklearn.linear_model import LinearRegression ,LogisticRegression\n",
        "from sklearn.tree import DecisionTreeClassifier\n",
        "from sklearn.neighbors import KNeighborsClassifier\n",
        "from sklearn.naive_bayes import GaussianNB\n",
        "from sklearn.ensemble import AdaBoostRegressor\n",
        "from sklearn.ensemble import RandomForestClassifier\n",
        "import xgboost as xgb\n",
        "from sklearn.svm import SVC ,SVR\n",
        "from sklearn.metrics import f1_score, confusion_matrix, accuracy_score, classification_report\n",
        "from sklearn.model_selection import GridSearchCV\n",
        "\n",
        "model_comparison = {}"
      ],
      "metadata": {
        "id": "CW6VKgh4L_4O"
      },
      "execution_count": null,
      "outputs": []
    },
    {
      "cell_type": "markdown",
      "source": [
        "### Support Vector Classifier"
      ],
      "metadata": {
        "id": "TKzD-leEMBr2"
      }
    },
    {
      "cell_type": "code",
      "source": [
        "parameters = {'C': [6,8,10,12,14], 'kernel': ['linear', 'poly', 'rbf', 'sigmoid']}\n",
        "\n",
        "svc_model = SVC()\n",
        "\n",
        "clf = GridSearchCV(svc_model, parameters)\n",
        "print(\"Searching for best hyperparameters ...\")\n",
        "clf.fit(X_train, y_train)\n",
        "print(f'Best Hyperparameters: {clf.best_params_}')\n",
        "\n",
        "y_pred = clf.predict(X_test)\n",
        "model_comparison['SupportVectorClassifier'] = [accuracy_score(y_test,y_pred), f1_score(y_test,y_pred, average='weighted')]\n",
        "print('\\n')\n",
        "print(classification_report(y_test,y_pred, zero_division=1))"
      ],
      "metadata": {
        "colab": {
          "base_uri": "https://localhost:8080/"
        },
        "id": "W8toNrhTMEnk",
        "outputId": "fd5ef185-c4b7-4d34-bdc6-1e06a93b864c"
      },
      "execution_count": null,
      "outputs": [
        {
          "output_type": "stream",
          "name": "stdout",
          "text": [
            "Searching for best hyperparameters ...\n",
            "Best Hyperparameters: {'C': 10, 'kernel': 'rbf'}\n",
            "\n",
            "\n",
            "              precision    recall  f1-score   support\n",
            "\n",
            "           0       0.91      0.94      0.93       292\n",
            "           1       0.59      0.47      0.52        51\n",
            "\n",
            "    accuracy                           0.87       343\n",
            "   macro avg       0.75      0.71      0.72       343\n",
            "weighted avg       0.86      0.87      0.87       343\n",
            "\n"
          ]
        }
      ]
    },
    {
      "cell_type": "markdown",
      "source": [
        "### KNeighbors Classifier"
      ],
      "metadata": {
        "id": "jA1QAkkCMPY3"
      }
    },
    {
      "cell_type": "code",
      "source": [
        "parameters = {'n_neighbors': [10,20,30,40,50]}\n",
        "\n",
        "K_model = KNeighborsClassifier()\n",
        "\n",
        "clf = GridSearchCV(K_model, parameters)\n",
        "print(\"Searching for best hyperparameters ...\")\n",
        "clf.fit(X_train, y_train)\n",
        "print(f'Best Hyperparameters: {clf.best_params_}')\n",
        "\n",
        "y_pred = clf.predict(X_test)\n",
        "model_comparison['KNeighborsClassifier'] = [accuracy_score(y_test,y_pred), f1_score(y_test,y_pred, average='weighted')]\n",
        "print('\\n')\n",
        "print(classification_report(y_test,y_pred, zero_division=1))"
      ],
      "metadata": {
        "colab": {
          "base_uri": "https://localhost:8080/"
        },
        "id": "pq6ZrE7rMUKZ",
        "outputId": "2866b57d-3b64-4b5c-cf31-51b1b1694237"
      },
      "execution_count": null,
      "outputs": [
        {
          "output_type": "stream",
          "name": "stdout",
          "text": [
            "Searching for best hyperparameters ...\n",
            "Best Hyperparameters: {'n_neighbors': 30}\n",
            "\n",
            "\n",
            "              precision    recall  f1-score   support\n",
            "\n",
            "           0       0.88      0.99      0.93       292\n",
            "           1       0.80      0.24      0.36        51\n",
            "\n",
            "    accuracy                           0.88       343\n",
            "   macro avg       0.84      0.61      0.65       343\n",
            "weighted avg       0.87      0.88      0.85       343\n",
            "\n"
          ]
        }
      ]
    },
    {
      "cell_type": "markdown",
      "source": [
        "### Random Forest Classifier"
      ],
      "metadata": {
        "id": "NOSTSbMcMVeW"
      }
    },
    {
      "cell_type": "code",
      "source": [
        "parameters = {'n_estimators': [160,180,200], 'max_depth':[20,25,28,30]}\n",
        "\n",
        "rf = RandomForestClassifier()\n",
        "\n",
        "clf = GridSearchCV(rf, parameters)\n",
        "print(\"Searching for best hyperparameters ...\")\n",
        "clf.fit(X_train, y_train)\n",
        "print(f'Best Hyperparameters: {clf.best_params_}')\n",
        "\n",
        "y_pred = clf.predict(X_test)\n",
        "model_comparison['RandomForestClassifier'] = [accuracy_score(y_test,y_pred), f1_score(y_test,y_pred, average='weighted')]\n",
        "print('\\n')\n",
        "print(classification_report(y_test,y_pred, zero_division=1))"
      ],
      "metadata": {
        "colab": {
          "base_uri": "https://localhost:8080/"
        },
        "id": "NfRUvBh0MUd1",
        "outputId": "46342deb-f814-4ee5-96d7-0c72e5ea24b2"
      },
      "execution_count": null,
      "outputs": [
        {
          "output_type": "stream",
          "name": "stdout",
          "text": [
            "Searching for best hyperparameters ...\n",
            "Best Hyperparameters: {'max_depth': 20, 'n_estimators': 200}\n",
            "\n",
            "\n",
            "              precision    recall  f1-score   support\n",
            "\n",
            "           0       0.90      0.98      0.93       292\n",
            "           1       0.72      0.35      0.47        51\n",
            "\n",
            "    accuracy                           0.88       343\n",
            "   macro avg       0.81      0.66      0.70       343\n",
            "weighted avg       0.87      0.88      0.87       343\n",
            "\n"
          ]
        }
      ]
    },
    {
      "cell_type": "markdown",
      "source": [
        "### XGBoost"
      ],
      "metadata": {
        "id": "g8mxT2cUMYTU"
      }
    },
    {
      "cell_type": "code",
      "source": [
        "parameters = {'n_estimators': [100, 150, 200], 'max_depth':[14, 16, 18, 20]}\n",
        "\n",
        "xgboost = xgb.XGBClassifier(use_label_encoder=False, eval_metric='mlogloss')\n",
        "\n",
        "clf = GridSearchCV(xgboost, parameters)\n",
        "print(\"Searching for best hyperparameters ...\")\n",
        "clf.fit(X_train, y_train)\n",
        "print(f'Best Hyperparameters: {clf.best_params_}')\n",
        "\n",
        "y_pred = clf.predict(X_test)\n",
        "model_comparison['XGBoost'] = [accuracy_score(y_test, y_pred), f1_score(y_test,y_pred, average='weighted')]\n",
        "print('\\n')\n",
        "print(classification_report(y_test,y_pred, zero_division=1))"
      ],
      "metadata": {
        "colab": {
          "base_uri": "https://localhost:8080/"
        },
        "id": "OYLXWCX7MaFr",
        "outputId": "522c67a7-1486-4358-a9a4-fadd3b48a929"
      },
      "execution_count": null,
      "outputs": [
        {
          "output_type": "stream",
          "name": "stdout",
          "text": [
            "Searching for best hyperparameters ...\n",
            "Best Hyperparameters: {'max_depth': 14, 'n_estimators': 150}\n",
            "\n",
            "\n",
            "              precision    recall  f1-score   support\n",
            "\n",
            "           0       0.91      0.96      0.93       292\n",
            "           1       0.63      0.43      0.51        51\n",
            "\n",
            "    accuracy                           0.88       343\n",
            "   macro avg       0.77      0.69      0.72       343\n",
            "weighted avg       0.86      0.88      0.87       343\n",
            "\n"
          ]
        }
      ]
    },
    {
      "cell_type": "markdown",
      "source": [
        "### Model Comparison"
      ],
      "metadata": {
        "id": "E3scCquxMa4n"
      }
    },
    {
      "cell_type": "code",
      "source": [
        "model_comparison_df = pd.DataFrame.from_dict(model_comparison).T\n",
        "model_comparison_df.columns = ['Accuracy', 'F1 Score']\n",
        "model_comparison_df = model_comparison_df.sort_values('F1 Score', ascending=True)\n",
        "model_comparison_df.style.background_gradient(cmap='Blues')"
      ],
      "metadata": {
        "colab": {
          "base_uri": "https://localhost:8080/"
        },
        "id": "QppGd3n2MuIj",
        "outputId": "cb6eb29f-ce7d-4587-a610-e1ed6ca4a8e3"
      },
      "execution_count": null,
      "outputs": [
        {
          "output_type": "execute_result",
          "data": {
            "text/plain": [
              "<pandas.io.formats.style.Styler at 0x7f6aa1969b10>"
            ],
            "text/html": [
              "<style type=\"text/css\">\n",
              "#T_938f0_row0_col0, #T_938f0_row3_col0 {\n",
              "  background-color: #6aaed6;\n",
              "  color: #f1f1f1;\n",
              "}\n",
              "#T_938f0_row0_col1, #T_938f0_row1_col0 {\n",
              "  background-color: #f7fbff;\n",
              "  color: #000000;\n",
              "}\n",
              "#T_938f0_row1_col1 {\n",
              "  background-color: #084a91;\n",
              "  color: #f1f1f1;\n",
              "}\n",
              "#T_938f0_row2_col0, #T_938f0_row3_col1 {\n",
              "  background-color: #08306b;\n",
              "  color: #f1f1f1;\n",
              "}\n",
              "#T_938f0_row2_col1 {\n",
              "  background-color: #08488e;\n",
              "  color: #f1f1f1;\n",
              "}\n",
              "</style>\n",
              "<table id=\"T_938f0_\" class=\"dataframe\">\n",
              "  <thead>\n",
              "    <tr>\n",
              "      <th class=\"blank level0\" >&nbsp;</th>\n",
              "      <th class=\"col_heading level0 col0\" >Accuracy</th>\n",
              "      <th class=\"col_heading level0 col1\" >F1 Score</th>\n",
              "    </tr>\n",
              "  </thead>\n",
              "  <tbody>\n",
              "    <tr>\n",
              "      <th id=\"T_938f0_level0_row0\" class=\"row_heading level0 row0\" >KNeighborsClassifier</th>\n",
              "      <td id=\"T_938f0_row0_col0\" class=\"data row0 col0\" >0.877551</td>\n",
              "      <td id=\"T_938f0_row0_col1\" class=\"data row0 col1\" >0.847711</td>\n",
              "    </tr>\n",
              "    <tr>\n",
              "      <th id=\"T_938f0_level0_row1\" class=\"row_heading level0 row1\" >SupportVectorClassifier</th>\n",
              "      <td id=\"T_938f0_row1_col0\" class=\"data row1 col0\" >0.871720</td>\n",
              "      <td id=\"T_938f0_row1_col1\" class=\"data row1 col1\" >0.865828</td>\n",
              "    </tr>\n",
              "    <tr>\n",
              "      <th id=\"T_938f0_level0_row2\" class=\"row_heading level0 row2\" >RandomForestClassifier</th>\n",
              "      <td id=\"T_938f0_row2_col0\" class=\"data row2 col0\" >0.883382</td>\n",
              "      <td id=\"T_938f0_row2_col1\" class=\"data row2 col1\" >0.865919</td>\n",
              "    </tr>\n",
              "    <tr>\n",
              "      <th id=\"T_938f0_level0_row3\" class=\"row_heading level0 row3\" >XGBoost</th>\n",
              "      <td id=\"T_938f0_row3_col0\" class=\"data row3 col0\" >0.877551</td>\n",
              "      <td id=\"T_938f0_row3_col1\" class=\"data row3 col1\" >0.867793</td>\n",
              "    </tr>\n",
              "  </tbody>\n",
              "</table>\n"
            ]
          },
          "metadata": {},
          "execution_count": 22
        }
      ]
    },
    {
      "cell_type": "code",
      "source": [
        "# For Data Visualization\n",
        "import matplotlib.pyplot as plt\n",
        "import seaborn as sns\n",
        "import plotly.express as px\n",
        "import plotly.graph_objects as go\n",
        "from plotly.subplots import make_subplots\n",
        "\n",
        "fig = go.Figure(data=[\n",
        "    go.Bar(name='F1 Score', y=model_comparison_df.index, x=model_comparison_df['F1 Score'], orientation='h'),\n",
        "    go.Bar(name='Accuracy', y=model_comparison_df.index, x=model_comparison_df['Accuracy'], orientation='h')\n",
        "])\n",
        "fig.update_layout(barmode='group')\n",
        "fig.show()"
      ],
      "metadata": {
        "colab": {
          "base_uri": "https://localhost:8080/",
          "height": 542
        },
        "id": "I0GFYirNMu33",
        "outputId": "95dd1dea-3cd9-40ea-9d71-32705ce45eaa"
      },
      "execution_count": null,
      "outputs": [
        {
          "output_type": "display_data",
          "data": {
            "text/html": [
              "<html>\n",
              "<head><meta charset=\"utf-8\" /></head>\n",
              "<body>\n",
              "    <div>            <script src=\"https://cdnjs.cloudflare.com/ajax/libs/mathjax/2.7.5/MathJax.js?config=TeX-AMS-MML_SVG\"></script><script type=\"text/javascript\">if (window.MathJax) {MathJax.Hub.Config({SVG: {font: \"STIX-Web\"}});}</script>                <script type=\"text/javascript\">window.PlotlyConfig = {MathJaxConfig: 'local'};</script>\n",
              "        <script src=\"https://cdn.plot.ly/plotly-2.8.3.min.js\"></script>                <div id=\"bcb6861b-13b4-4d60-a991-3110b44ad173\" class=\"plotly-graph-div\" style=\"height:525px; width:100%;\"></div>            <script type=\"text/javascript\">                                    window.PLOTLYENV=window.PLOTLYENV || {};                                    if (document.getElementById(\"bcb6861b-13b4-4d60-a991-3110b44ad173\")) {                    Plotly.newPlot(                        \"bcb6861b-13b4-4d60-a991-3110b44ad173\",                        [{\"name\":\"F1 Score\",\"orientation\":\"h\",\"x\":[0.847710814531091,0.8658281808237442,0.8659193986974798,0.8677930707166587],\"y\":[\"KNeighborsClassifier\",\"SupportVectorClassifier\",\"RandomForestClassifier\",\"XGBoost\"],\"type\":\"bar\"},{\"name\":\"Accuracy\",\"orientation\":\"h\",\"x\":[0.8775510204081632,0.8717201166180758,0.8833819241982507,0.8775510204081632],\"y\":[\"KNeighborsClassifier\",\"SupportVectorClassifier\",\"RandomForestClassifier\",\"XGBoost\"],\"type\":\"bar\"}],                        {\"template\":{\"data\":{\"bar\":[{\"error_x\":{\"color\":\"#2a3f5f\"},\"error_y\":{\"color\":\"#2a3f5f\"},\"marker\":{\"line\":{\"color\":\"#E5ECF6\",\"width\":0.5},\"pattern\":{\"fillmode\":\"overlay\",\"size\":10,\"solidity\":0.2}},\"type\":\"bar\"}],\"barpolar\":[{\"marker\":{\"line\":{\"color\":\"#E5ECF6\",\"width\":0.5},\"pattern\":{\"fillmode\":\"overlay\",\"size\":10,\"solidity\":0.2}},\"type\":\"barpolar\"}],\"carpet\":[{\"aaxis\":{\"endlinecolor\":\"#2a3f5f\",\"gridcolor\":\"white\",\"linecolor\":\"white\",\"minorgridcolor\":\"white\",\"startlinecolor\":\"#2a3f5f\"},\"baxis\":{\"endlinecolor\":\"#2a3f5f\",\"gridcolor\":\"white\",\"linecolor\":\"white\",\"minorgridcolor\":\"white\",\"startlinecolor\":\"#2a3f5f\"},\"type\":\"carpet\"}],\"choropleth\":[{\"colorbar\":{\"outlinewidth\":0,\"ticks\":\"\"},\"type\":\"choropleth\"}],\"contour\":[{\"colorbar\":{\"outlinewidth\":0,\"ticks\":\"\"},\"colorscale\":[[0.0,\"#0d0887\"],[0.1111111111111111,\"#46039f\"],[0.2222222222222222,\"#7201a8\"],[0.3333333333333333,\"#9c179e\"],[0.4444444444444444,\"#bd3786\"],[0.5555555555555556,\"#d8576b\"],[0.6666666666666666,\"#ed7953\"],[0.7777777777777778,\"#fb9f3a\"],[0.8888888888888888,\"#fdca26\"],[1.0,\"#f0f921\"]],\"type\":\"contour\"}],\"contourcarpet\":[{\"colorbar\":{\"outlinewidth\":0,\"ticks\":\"\"},\"type\":\"contourcarpet\"}],\"heatmap\":[{\"colorbar\":{\"outlinewidth\":0,\"ticks\":\"\"},\"colorscale\":[[0.0,\"#0d0887\"],[0.1111111111111111,\"#46039f\"],[0.2222222222222222,\"#7201a8\"],[0.3333333333333333,\"#9c179e\"],[0.4444444444444444,\"#bd3786\"],[0.5555555555555556,\"#d8576b\"],[0.6666666666666666,\"#ed7953\"],[0.7777777777777778,\"#fb9f3a\"],[0.8888888888888888,\"#fdca26\"],[1.0,\"#f0f921\"]],\"type\":\"heatmap\"}],\"heatmapgl\":[{\"colorbar\":{\"outlinewidth\":0,\"ticks\":\"\"},\"colorscale\":[[0.0,\"#0d0887\"],[0.1111111111111111,\"#46039f\"],[0.2222222222222222,\"#7201a8\"],[0.3333333333333333,\"#9c179e\"],[0.4444444444444444,\"#bd3786\"],[0.5555555555555556,\"#d8576b\"],[0.6666666666666666,\"#ed7953\"],[0.7777777777777778,\"#fb9f3a\"],[0.8888888888888888,\"#fdca26\"],[1.0,\"#f0f921\"]],\"type\":\"heatmapgl\"}],\"histogram\":[{\"marker\":{\"pattern\":{\"fillmode\":\"overlay\",\"size\":10,\"solidity\":0.2}},\"type\":\"histogram\"}],\"histogram2d\":[{\"colorbar\":{\"outlinewidth\":0,\"ticks\":\"\"},\"colorscale\":[[0.0,\"#0d0887\"],[0.1111111111111111,\"#46039f\"],[0.2222222222222222,\"#7201a8\"],[0.3333333333333333,\"#9c179e\"],[0.4444444444444444,\"#bd3786\"],[0.5555555555555556,\"#d8576b\"],[0.6666666666666666,\"#ed7953\"],[0.7777777777777778,\"#fb9f3a\"],[0.8888888888888888,\"#fdca26\"],[1.0,\"#f0f921\"]],\"type\":\"histogram2d\"}],\"histogram2dcontour\":[{\"colorbar\":{\"outlinewidth\":0,\"ticks\":\"\"},\"colorscale\":[[0.0,\"#0d0887\"],[0.1111111111111111,\"#46039f\"],[0.2222222222222222,\"#7201a8\"],[0.3333333333333333,\"#9c179e\"],[0.4444444444444444,\"#bd3786\"],[0.5555555555555556,\"#d8576b\"],[0.6666666666666666,\"#ed7953\"],[0.7777777777777778,\"#fb9f3a\"],[0.8888888888888888,\"#fdca26\"],[1.0,\"#f0f921\"]],\"type\":\"histogram2dcontour\"}],\"mesh3d\":[{\"colorbar\":{\"outlinewidth\":0,\"ticks\":\"\"},\"type\":\"mesh3d\"}],\"parcoords\":[{\"line\":{\"colorbar\":{\"outlinewidth\":0,\"ticks\":\"\"}},\"type\":\"parcoords\"}],\"pie\":[{\"automargin\":true,\"type\":\"pie\"}],\"scatter\":[{\"marker\":{\"colorbar\":{\"outlinewidth\":0,\"ticks\":\"\"}},\"type\":\"scatter\"}],\"scatter3d\":[{\"line\":{\"colorbar\":{\"outlinewidth\":0,\"ticks\":\"\"}},\"marker\":{\"colorbar\":{\"outlinewidth\":0,\"ticks\":\"\"}},\"type\":\"scatter3d\"}],\"scattercarpet\":[{\"marker\":{\"colorbar\":{\"outlinewidth\":0,\"ticks\":\"\"}},\"type\":\"scattercarpet\"}],\"scattergeo\":[{\"marker\":{\"colorbar\":{\"outlinewidth\":0,\"ticks\":\"\"}},\"type\":\"scattergeo\"}],\"scattergl\":[{\"marker\":{\"colorbar\":{\"outlinewidth\":0,\"ticks\":\"\"}},\"type\":\"scattergl\"}],\"scattermapbox\":[{\"marker\":{\"colorbar\":{\"outlinewidth\":0,\"ticks\":\"\"}},\"type\":\"scattermapbox\"}],\"scatterpolar\":[{\"marker\":{\"colorbar\":{\"outlinewidth\":0,\"ticks\":\"\"}},\"type\":\"scatterpolar\"}],\"scatterpolargl\":[{\"marker\":{\"colorbar\":{\"outlinewidth\":0,\"ticks\":\"\"}},\"type\":\"scatterpolargl\"}],\"scatterternary\":[{\"marker\":{\"colorbar\":{\"outlinewidth\":0,\"ticks\":\"\"}},\"type\":\"scatterternary\"}],\"surface\":[{\"colorbar\":{\"outlinewidth\":0,\"ticks\":\"\"},\"colorscale\":[[0.0,\"#0d0887\"],[0.1111111111111111,\"#46039f\"],[0.2222222222222222,\"#7201a8\"],[0.3333333333333333,\"#9c179e\"],[0.4444444444444444,\"#bd3786\"],[0.5555555555555556,\"#d8576b\"],[0.6666666666666666,\"#ed7953\"],[0.7777777777777778,\"#fb9f3a\"],[0.8888888888888888,\"#fdca26\"],[1.0,\"#f0f921\"]],\"type\":\"surface\"}],\"table\":[{\"cells\":{\"fill\":{\"color\":\"#EBF0F8\"},\"line\":{\"color\":\"white\"}},\"header\":{\"fill\":{\"color\":\"#C8D4E3\"},\"line\":{\"color\":\"white\"}},\"type\":\"table\"}]},\"layout\":{\"annotationdefaults\":{\"arrowcolor\":\"#2a3f5f\",\"arrowhead\":0,\"arrowwidth\":1},\"autotypenumbers\":\"strict\",\"coloraxis\":{\"colorbar\":{\"outlinewidth\":0,\"ticks\":\"\"}},\"colorscale\":{\"diverging\":[[0,\"#8e0152\"],[0.1,\"#c51b7d\"],[0.2,\"#de77ae\"],[0.3,\"#f1b6da\"],[0.4,\"#fde0ef\"],[0.5,\"#f7f7f7\"],[0.6,\"#e6f5d0\"],[0.7,\"#b8e186\"],[0.8,\"#7fbc41\"],[0.9,\"#4d9221\"],[1,\"#276419\"]],\"sequential\":[[0.0,\"#0d0887\"],[0.1111111111111111,\"#46039f\"],[0.2222222222222222,\"#7201a8\"],[0.3333333333333333,\"#9c179e\"],[0.4444444444444444,\"#bd3786\"],[0.5555555555555556,\"#d8576b\"],[0.6666666666666666,\"#ed7953\"],[0.7777777777777778,\"#fb9f3a\"],[0.8888888888888888,\"#fdca26\"],[1.0,\"#f0f921\"]],\"sequentialminus\":[[0.0,\"#0d0887\"],[0.1111111111111111,\"#46039f\"],[0.2222222222222222,\"#7201a8\"],[0.3333333333333333,\"#9c179e\"],[0.4444444444444444,\"#bd3786\"],[0.5555555555555556,\"#d8576b\"],[0.6666666666666666,\"#ed7953\"],[0.7777777777777778,\"#fb9f3a\"],[0.8888888888888888,\"#fdca26\"],[1.0,\"#f0f921\"]]},\"colorway\":[\"#636efa\",\"#EF553B\",\"#00cc96\",\"#ab63fa\",\"#FFA15A\",\"#19d3f3\",\"#FF6692\",\"#B6E880\",\"#FF97FF\",\"#FECB52\"],\"font\":{\"color\":\"#2a3f5f\"},\"geo\":{\"bgcolor\":\"white\",\"lakecolor\":\"white\",\"landcolor\":\"#E5ECF6\",\"showlakes\":true,\"showland\":true,\"subunitcolor\":\"white\"},\"hoverlabel\":{\"align\":\"left\"},\"hovermode\":\"closest\",\"mapbox\":{\"style\":\"light\"},\"paper_bgcolor\":\"white\",\"plot_bgcolor\":\"#E5ECF6\",\"polar\":{\"angularaxis\":{\"gridcolor\":\"white\",\"linecolor\":\"white\",\"ticks\":\"\"},\"bgcolor\":\"#E5ECF6\",\"radialaxis\":{\"gridcolor\":\"white\",\"linecolor\":\"white\",\"ticks\":\"\"}},\"scene\":{\"xaxis\":{\"backgroundcolor\":\"#E5ECF6\",\"gridcolor\":\"white\",\"gridwidth\":2,\"linecolor\":\"white\",\"showbackground\":true,\"ticks\":\"\",\"zerolinecolor\":\"white\"},\"yaxis\":{\"backgroundcolor\":\"#E5ECF6\",\"gridcolor\":\"white\",\"gridwidth\":2,\"linecolor\":\"white\",\"showbackground\":true,\"ticks\":\"\",\"zerolinecolor\":\"white\"},\"zaxis\":{\"backgroundcolor\":\"#E5ECF6\",\"gridcolor\":\"white\",\"gridwidth\":2,\"linecolor\":\"white\",\"showbackground\":true,\"ticks\":\"\",\"zerolinecolor\":\"white\"}},\"shapedefaults\":{\"line\":{\"color\":\"#2a3f5f\"}},\"ternary\":{\"aaxis\":{\"gridcolor\":\"white\",\"linecolor\":\"white\",\"ticks\":\"\"},\"baxis\":{\"gridcolor\":\"white\",\"linecolor\":\"white\",\"ticks\":\"\"},\"bgcolor\":\"#E5ECF6\",\"caxis\":{\"gridcolor\":\"white\",\"linecolor\":\"white\",\"ticks\":\"\"}},\"title\":{\"x\":0.05},\"xaxis\":{\"automargin\":true,\"gridcolor\":\"white\",\"linecolor\":\"white\",\"ticks\":\"\",\"title\":{\"standoff\":15},\"zerolinecolor\":\"white\",\"zerolinewidth\":2},\"yaxis\":{\"automargin\":true,\"gridcolor\":\"white\",\"linecolor\":\"white\",\"ticks\":\"\",\"title\":{\"standoff\":15},\"zerolinecolor\":\"white\",\"zerolinewidth\":2}}},\"barmode\":\"group\"},                        {\"responsive\": true}                    ).then(function(){\n",
              "                            \n",
              "var gd = document.getElementById('bcb6861b-13b4-4d60-a991-3110b44ad173');\n",
              "var x = new MutationObserver(function (mutations, observer) {{\n",
              "        var display = window.getComputedStyle(gd).display;\n",
              "        if (!display || display === 'none') {{\n",
              "            console.log([gd, 'removed!']);\n",
              "            Plotly.purge(gd);\n",
              "            observer.disconnect();\n",
              "        }}\n",
              "}});\n",
              "\n",
              "// Listen for the removal of the full notebook cells\n",
              "var notebookContainer = gd.closest('#notebook-container');\n",
              "if (notebookContainer) {{\n",
              "    x.observe(notebookContainer, {childList: true});\n",
              "}}\n",
              "\n",
              "// Listen for the clearing of the current output cell\n",
              "var outputEl = gd.closest('.output');\n",
              "if (outputEl) {{\n",
              "    x.observe(outputEl, {childList: true});\n",
              "}}\n",
              "\n",
              "                        })                };                            </script>        </div>\n",
              "</body>\n",
              "</html>"
            ]
          },
          "metadata": {}
        }
      ]
    },
    {
      "cell_type": "code",
      "source": [
        ""
      ],
      "metadata": {
        "id": "e8Ge7J_2OGN_"
      },
      "execution_count": null,
      "outputs": []
    }
  ]
}